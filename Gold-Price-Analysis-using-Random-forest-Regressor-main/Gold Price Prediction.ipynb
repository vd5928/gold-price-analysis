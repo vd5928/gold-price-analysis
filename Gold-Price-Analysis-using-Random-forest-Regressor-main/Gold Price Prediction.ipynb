{
 "cells": [
  {
   "cell_type": "code",
   "execution_count": 4,
   "id": "0849c4c5",
   "metadata": {},
   "outputs": [],
   "source": [
    "import pandas as pd\n",
    "import matplotlib.pyplot as plt\n",
    "import seaborn as sns\n",
    "from sklearn.model_selection import train_test_split\n",
    "from sklearn.ensemble import RandomForestRegressor\n",
    "from sklearn import metrics"
   ]
  },
  {
   "cell_type": "code",
   "execution_count": 7,
   "id": "cf5e2767",
   "metadata": {},
   "outputs": [],
   "source": [
    "#load the data csv\n",
    "gold_data=pd.read_csv(\"C:\\\\Users\\\\kotha\\\\OneDrive\\\\Desktop\\\\gld_price_data.csv\")"
   ]
  },
  {
   "cell_type": "code",
   "execution_count": 8,
   "id": "8d908900",
   "metadata": {},
   "outputs": [
    {
     "data": {
      "text/html": [
       "<div>\n",
       "<style scoped>\n",
       "    .dataframe tbody tr th:only-of-type {\n",
       "        vertical-align: middle;\n",
       "    }\n",
       "\n",
       "    .dataframe tbody tr th {\n",
       "        vertical-align: top;\n",
       "    }\n",
       "\n",
       "    .dataframe thead th {\n",
       "        text-align: right;\n",
       "    }\n",
       "</style>\n",
       "<table border=\"1\" class=\"dataframe\">\n",
       "  <thead>\n",
       "    <tr style=\"text-align: right;\">\n",
       "      <th></th>\n",
       "      <th>Date</th>\n",
       "      <th>SPX</th>\n",
       "      <th>GLD</th>\n",
       "      <th>USO</th>\n",
       "      <th>SLV</th>\n",
       "      <th>EUR/USD</th>\n",
       "    </tr>\n",
       "  </thead>\n",
       "  <tbody>\n",
       "    <tr>\n",
       "      <th>0</th>\n",
       "      <td>1/2/2008</td>\n",
       "      <td>1447.160034</td>\n",
       "      <td>84.860001</td>\n",
       "      <td>78.470001</td>\n",
       "      <td>15.180</td>\n",
       "      <td>1.471692</td>\n",
       "    </tr>\n",
       "    <tr>\n",
       "      <th>1</th>\n",
       "      <td>1/3/2008</td>\n",
       "      <td>1447.160034</td>\n",
       "      <td>85.570000</td>\n",
       "      <td>78.370003</td>\n",
       "      <td>15.285</td>\n",
       "      <td>1.474491</td>\n",
       "    </tr>\n",
       "    <tr>\n",
       "      <th>2</th>\n",
       "      <td>1/4/2008</td>\n",
       "      <td>1411.630005</td>\n",
       "      <td>85.129997</td>\n",
       "      <td>77.309998</td>\n",
       "      <td>15.167</td>\n",
       "      <td>1.475492</td>\n",
       "    </tr>\n",
       "    <tr>\n",
       "      <th>3</th>\n",
       "      <td>1/7/2008</td>\n",
       "      <td>1416.180054</td>\n",
       "      <td>84.769997</td>\n",
       "      <td>75.500000</td>\n",
       "      <td>15.053</td>\n",
       "      <td>1.468299</td>\n",
       "    </tr>\n",
       "    <tr>\n",
       "      <th>4</th>\n",
       "      <td>1/8/2008</td>\n",
       "      <td>1390.189941</td>\n",
       "      <td>86.779999</td>\n",
       "      <td>76.059998</td>\n",
       "      <td>15.590</td>\n",
       "      <td>1.557099</td>\n",
       "    </tr>\n",
       "  </tbody>\n",
       "</table>\n",
       "</div>"
      ],
      "text/plain": [
       "       Date          SPX        GLD        USO     SLV   EUR/USD\n",
       "0  1/2/2008  1447.160034  84.860001  78.470001  15.180  1.471692\n",
       "1  1/3/2008  1447.160034  85.570000  78.370003  15.285  1.474491\n",
       "2  1/4/2008  1411.630005  85.129997  77.309998  15.167  1.475492\n",
       "3  1/7/2008  1416.180054  84.769997  75.500000  15.053  1.468299\n",
       "4  1/8/2008  1390.189941  86.779999  76.059998  15.590  1.557099"
      ]
     },
     "execution_count": 8,
     "metadata": {},
     "output_type": "execute_result"
    }
   ],
   "source": [
    "#print the data frame\n",
    "gold_data.head()\n",
    "#GLD=gold price we are going to predcit the gld value"
   ]
  },
  {
   "cell_type": "code",
   "execution_count": 9,
   "id": "80daeefa",
   "metadata": {},
   "outputs": [
    {
     "data": {
      "text/html": [
       "<div>\n",
       "<style scoped>\n",
       "    .dataframe tbody tr th:only-of-type {\n",
       "        vertical-align: middle;\n",
       "    }\n",
       "\n",
       "    .dataframe tbody tr th {\n",
       "        vertical-align: top;\n",
       "    }\n",
       "\n",
       "    .dataframe thead th {\n",
       "        text-align: right;\n",
       "    }\n",
       "</style>\n",
       "<table border=\"1\" class=\"dataframe\">\n",
       "  <thead>\n",
       "    <tr style=\"text-align: right;\">\n",
       "      <th></th>\n",
       "      <th>Date</th>\n",
       "      <th>SPX</th>\n",
       "      <th>GLD</th>\n",
       "      <th>USO</th>\n",
       "      <th>SLV</th>\n",
       "      <th>EUR/USD</th>\n",
       "    </tr>\n",
       "  </thead>\n",
       "  <tbody>\n",
       "    <tr>\n",
       "      <th>2285</th>\n",
       "      <td>5/8/2018</td>\n",
       "      <td>2671.919922</td>\n",
       "      <td>124.589996</td>\n",
       "      <td>14.0600</td>\n",
       "      <td>15.5100</td>\n",
       "      <td>1.186789</td>\n",
       "    </tr>\n",
       "    <tr>\n",
       "      <th>2286</th>\n",
       "      <td>5/9/2018</td>\n",
       "      <td>2697.790039</td>\n",
       "      <td>124.330002</td>\n",
       "      <td>14.3700</td>\n",
       "      <td>15.5300</td>\n",
       "      <td>1.184722</td>\n",
       "    </tr>\n",
       "    <tr>\n",
       "      <th>2287</th>\n",
       "      <td>5/10/2018</td>\n",
       "      <td>2723.070068</td>\n",
       "      <td>125.180000</td>\n",
       "      <td>14.4100</td>\n",
       "      <td>15.7400</td>\n",
       "      <td>1.191753</td>\n",
       "    </tr>\n",
       "    <tr>\n",
       "      <th>2288</th>\n",
       "      <td>5/14/2018</td>\n",
       "      <td>2730.129883</td>\n",
       "      <td>124.489998</td>\n",
       "      <td>14.3800</td>\n",
       "      <td>15.5600</td>\n",
       "      <td>1.193118</td>\n",
       "    </tr>\n",
       "    <tr>\n",
       "      <th>2289</th>\n",
       "      <td>5/16/2018</td>\n",
       "      <td>2725.780029</td>\n",
       "      <td>122.543800</td>\n",
       "      <td>14.4058</td>\n",
       "      <td>15.4542</td>\n",
       "      <td>1.182033</td>\n",
       "    </tr>\n",
       "  </tbody>\n",
       "</table>\n",
       "</div>"
      ],
      "text/plain": [
       "           Date          SPX         GLD      USO      SLV   EUR/USD\n",
       "2285   5/8/2018  2671.919922  124.589996  14.0600  15.5100  1.186789\n",
       "2286   5/9/2018  2697.790039  124.330002  14.3700  15.5300  1.184722\n",
       "2287  5/10/2018  2723.070068  125.180000  14.4100  15.7400  1.191753\n",
       "2288  5/14/2018  2730.129883  124.489998  14.3800  15.5600  1.193118\n",
       "2289  5/16/2018  2725.780029  122.543800  14.4058  15.4542  1.182033"
      ]
     },
     "execution_count": 9,
     "metadata": {},
     "output_type": "execute_result"
    }
   ],
   "source": [
    "gold_data.tail()\n",
    "#out of 6 columns we are predicting the Gld column"
   ]
  },
  {
   "cell_type": "code",
   "execution_count": 11,
   "id": "ac6e4bbe",
   "metadata": {},
   "outputs": [
    {
     "data": {
      "text/plain": [
       "(2290, 6)"
      ]
     },
     "execution_count": 11,
     "metadata": {},
     "output_type": "execute_result"
    }
   ],
   "source": [
    "#number of rowas and columns in the given data frame using the function shape \n",
    "gold_data.shape"
   ]
  },
  {
   "cell_type": "code",
   "execution_count": 12,
   "id": "58805bf7",
   "metadata": {},
   "outputs": [
    {
     "name": "stdout",
     "output_type": "stream",
     "text": [
      "<class 'pandas.core.frame.DataFrame'>\n",
      "RangeIndex: 2290 entries, 0 to 2289\n",
      "Data columns (total 6 columns):\n",
      " #   Column   Non-Null Count  Dtype  \n",
      "---  ------   --------------  -----  \n",
      " 0   Date     2290 non-null   object \n",
      " 1   SPX      2290 non-null   float64\n",
      " 2   GLD      2290 non-null   float64\n",
      " 3   USO      2290 non-null   float64\n",
      " 4   SLV      2290 non-null   float64\n",
      " 5   EUR/USD  2290 non-null   float64\n",
      "dtypes: float64(5), object(1)\n",
      "memory usage: 107.5+ KB\n"
     ]
    }
   ],
   "source": [
    "#we will use the data type  for the predictipons\n",
    "#We will get basic data imformaion\n",
    "gold_data.info()"
   ]
  },
  {
   "cell_type": "code",
   "execution_count": 13,
   "id": "12f531f5",
   "metadata": {},
   "outputs": [
    {
     "data": {
      "text/plain": [
       "Date       0\n",
       "SPX        0\n",
       "GLD        0\n",
       "USO        0\n",
       "SLV        0\n",
       "EUR/USD    0\n",
       "dtype: int64"
      ]
     },
     "execution_count": 13,
     "metadata": {},
     "output_type": "execute_result"
    }
   ],
   "source": [
    "#WE can also check the number of missing values\n",
    "gold_data.isnull().sum()"
   ]
  },
  {
   "cell_type": "code",
   "execution_count": 14,
   "id": "31f4b98c",
   "metadata": {},
   "outputs": [
    {
     "data": {
      "text/html": [
       "<div>\n",
       "<style scoped>\n",
       "    .dataframe tbody tr th:only-of-type {\n",
       "        vertical-align: middle;\n",
       "    }\n",
       "\n",
       "    .dataframe tbody tr th {\n",
       "        vertical-align: top;\n",
       "    }\n",
       "\n",
       "    .dataframe thead th {\n",
       "        text-align: right;\n",
       "    }\n",
       "</style>\n",
       "<table border=\"1\" class=\"dataframe\">\n",
       "  <thead>\n",
       "    <tr style=\"text-align: right;\">\n",
       "      <th></th>\n",
       "      <th>SPX</th>\n",
       "      <th>GLD</th>\n",
       "      <th>USO</th>\n",
       "      <th>SLV</th>\n",
       "      <th>EUR/USD</th>\n",
       "    </tr>\n",
       "  </thead>\n",
       "  <tbody>\n",
       "    <tr>\n",
       "      <th>count</th>\n",
       "      <td>2290.000000</td>\n",
       "      <td>2290.000000</td>\n",
       "      <td>2290.000000</td>\n",
       "      <td>2290.000000</td>\n",
       "      <td>2290.000000</td>\n",
       "    </tr>\n",
       "    <tr>\n",
       "      <th>mean</th>\n",
       "      <td>1654.315776</td>\n",
       "      <td>122.732875</td>\n",
       "      <td>31.842221</td>\n",
       "      <td>20.084997</td>\n",
       "      <td>1.283653</td>\n",
       "    </tr>\n",
       "    <tr>\n",
       "      <th>std</th>\n",
       "      <td>519.111540</td>\n",
       "      <td>23.283346</td>\n",
       "      <td>19.523517</td>\n",
       "      <td>7.092566</td>\n",
       "      <td>0.131547</td>\n",
       "    </tr>\n",
       "    <tr>\n",
       "      <th>min</th>\n",
       "      <td>676.530029</td>\n",
       "      <td>70.000000</td>\n",
       "      <td>7.960000</td>\n",
       "      <td>8.850000</td>\n",
       "      <td>1.039047</td>\n",
       "    </tr>\n",
       "    <tr>\n",
       "      <th>25%</th>\n",
       "      <td>1239.874969</td>\n",
       "      <td>109.725000</td>\n",
       "      <td>14.380000</td>\n",
       "      <td>15.570000</td>\n",
       "      <td>1.171313</td>\n",
       "    </tr>\n",
       "    <tr>\n",
       "      <th>50%</th>\n",
       "      <td>1551.434998</td>\n",
       "      <td>120.580002</td>\n",
       "      <td>33.869999</td>\n",
       "      <td>17.268500</td>\n",
       "      <td>1.303297</td>\n",
       "    </tr>\n",
       "    <tr>\n",
       "      <th>75%</th>\n",
       "      <td>2073.010070</td>\n",
       "      <td>132.840004</td>\n",
       "      <td>37.827501</td>\n",
       "      <td>22.882500</td>\n",
       "      <td>1.369971</td>\n",
       "    </tr>\n",
       "    <tr>\n",
       "      <th>max</th>\n",
       "      <td>2872.870117</td>\n",
       "      <td>184.589996</td>\n",
       "      <td>117.480003</td>\n",
       "      <td>47.259998</td>\n",
       "      <td>1.598798</td>\n",
       "    </tr>\n",
       "  </tbody>\n",
       "</table>\n",
       "</div>"
      ],
      "text/plain": [
       "               SPX          GLD          USO          SLV      EUR/USD\n",
       "count  2290.000000  2290.000000  2290.000000  2290.000000  2290.000000\n",
       "mean   1654.315776   122.732875    31.842221    20.084997     1.283653\n",
       "std     519.111540    23.283346    19.523517     7.092566     0.131547\n",
       "min     676.530029    70.000000     7.960000     8.850000     1.039047\n",
       "25%    1239.874969   109.725000    14.380000    15.570000     1.171313\n",
       "50%    1551.434998   120.580002    33.869999    17.268500     1.303297\n",
       "75%    2073.010070   132.840004    37.827501    22.882500     1.369971\n",
       "max    2872.870117   184.589996   117.480003    47.259998     1.598798"
      ]
     },
     "execution_count": 14,
     "metadata": {},
     "output_type": "execute_result"
    }
   ],
   "source": [
    "#Lets gets some the statistical mesaures of the data like mean standard deviation 25 percent means 25 percent of the valuess less than 1239\n",
    "gold_data.describe()"
   ]
  },
  {
   "cell_type": "code",
   "execution_count": 15,
   "id": "b2e78526",
   "metadata": {},
   "outputs": [],
   "source": [
    "#we can get the corelation values there are two corelation 1.positive corelation and 2. negative corelation\n",
    "correlation=gold_data.corr()"
   ]
  },
  {
   "cell_type": "code",
   "execution_count": 24,
   "id": "3ef6a9c4",
   "metadata": {},
   "outputs": [
    {
     "data": {
      "text/plain": [
       "<AxesSubplot:>"
      ]
     },
     "execution_count": 24,
     "metadata": {},
     "output_type": "execute_result"
    },
    {
     "data": {
      "image/png": "[encoded data removed]",
      "text/plain": [
       "<Figure size 720x720 with 2 Axes>"
      ]
     },
     "metadata": {
      "needs_background": "light"
     },
     "output_type": "display_data"
    }
   ],
   "source": [
    "#constrcuting the heat map to understand the correlation\n",
    "plt.figure(figsize=(10,10))\n",
    "sns.heatmap(correlation,cbar=True,square=True,fmt='.1f',annot=True,annot_kws={'size':10},cmap='Greens')"
   ]
  },
  {
   "cell_type": "code",
   "execution_count": 19,
   "id": "2dd583f6",
   "metadata": {},
   "outputs": [],
   "source": [
    "#In the heat map negative correlation has negative values and positove corelation has positive values\n",
    "#For example if uso value decreases then spx value increases this is about corelation heat map or corelation statistics\n",
    "#fmt.1f means no of decimal points and cbar is true means the values bar colour"
   ]
  },
  {
   "cell_type": "code",
   "execution_count": 25,
   "id": "21d21161",
   "metadata": {},
   "outputs": [
    {
     "name": "stdout",
     "output_type": "stream",
     "text": [
      "SPX        0.049345\n",
      "GLD        1.000000\n",
      "USO       -0.186360\n",
      "SLV        0.866632\n",
      "EUR/USD   -0.024375\n",
      "Name: GLD, dtype: float64\n"
     ]
    }
   ],
   "source": [
    "#lets see the correlation values of  gld\n",
    "print(correlation['GLD'])\n",
    "#only silver is positively correlated"
   ]
  },
  {
   "cell_type": "code",
   "execution_count": 30,
   "id": "19ae3e1b",
   "metadata": {},
   "outputs": [
    {
     "data": {
      "text/plain": [
       "<seaborn.axisgrid.FacetGrid at 0x1f6c6024580>"
      ]
     },
     "execution_count": 30,
     "metadata": {},
     "output_type": "execute_result"
    },
    {
     "data": {
      "image/png": "[encoded data removed]",
      "text/plain": [
       "<Figure size 360x360 with 1 Axes>"
      ]
     },
     "metadata": {
      "needs_background": "light"
     },
     "output_type": "display_data"
    }
   ],
   "source": [
    "#lets check the distribution of price\n",
    "sns.displot(gold_data['GLD'],color='green')"
   ]
  },
  {
   "cell_type": "code",
   "execution_count": 28,
   "id": "e7c72208",
   "metadata": {},
   "outputs": [],
   "source": [
    "#the more values are in 120 range"
   ]
  },
  {
   "cell_type": "code",
   "execution_count": 31,
   "id": "d9d3cb09",
   "metadata": {},
   "outputs": [],
   "source": [
    "#Now we need only gold rates now we need to split the columns \n",
    "#splitting the feauters and target \n",
    "X=gold_data.drop(['Date','GLD'],axis=1)#when we are dropping the column we need to keed axis is 1 for row its 0\n",
    "Y=gold_data['GLD']"
   ]
  },
  {
   "cell_type": "code",
   "execution_count": 33,
   "id": "56e74045",
   "metadata": {},
   "outputs": [
    {
     "name": "stdout",
     "output_type": "stream",
     "text": [
      "              SPX        USO      SLV   EUR/USD\n",
      "0     1447.160034  78.470001  15.1800  1.471692\n",
      "1     1447.160034  78.370003  15.2850  1.474491\n",
      "2     1411.630005  77.309998  15.1670  1.475492\n",
      "3     1416.180054  75.500000  15.0530  1.468299\n",
      "4     1390.189941  76.059998  15.5900  1.557099\n",
      "...           ...        ...      ...       ...\n",
      "2285  2671.919922  14.060000  15.5100  1.186789\n",
      "2286  2697.790039  14.370000  15.5300  1.184722\n",
      "2287  2723.070068  14.410000  15.7400  1.191753\n",
      "2288  2730.129883  14.380000  15.5600  1.193118\n",
      "2289  2725.780029  14.405800  15.4542  1.182033\n",
      "\n",
      "[2290 rows x 4 columns]\n"
     ]
    }
   ],
   "source": [
    "print(X)"
   ]
  },
  {
   "cell_type": "code",
   "execution_count": 34,
   "id": "45a3300f",
   "metadata": {},
   "outputs": [
    {
     "name": "stdout",
     "output_type": "stream",
     "text": [
      "0        84.860001\n",
      "1        85.570000\n",
      "2        85.129997\n",
      "3        84.769997\n",
      "4        86.779999\n",
      "           ...    \n",
      "2285    124.589996\n",
      "2286    124.330002\n",
      "2287    125.180000\n",
      "2288    124.489998\n",
      "2289    122.543800\n",
      "Name: GLD, Length: 2290, dtype: float64\n"
     ]
    }
   ],
   "source": [
    "print(Y)"
   ]
  },
  {
   "cell_type": "code",
   "execution_count": 35,
   "id": "6b3e23bf",
   "metadata": {},
   "outputs": [],
   "source": [
    "#now we will split the data in to testing data and the training data\n",
    "#we will train our machine learning algorithm with the training data and we will evulate the with the test data \n",
    "X_train,X_test,Y_train,Y_test = train_test_split(X,Y,test_size=0.2,random_state=2)\n"
   ]
  },
  {
   "cell_type": "code",
   "execution_count": 37,
   "id": "c9b859e2",
   "metadata": {},
   "outputs": [],
   "source": [
    "#Model training\n",
    "#random forest regressor\n",
    "regressor=RandomForestRegressor(n_estimators=100)"
   ]
  },
  {
   "cell_type": "code",
   "execution_count": 39,
   "id": "b14796bc",
   "metadata": {},
   "outputs": [
    {
     "data": {
      "text/plain": [
       "RandomForestRegressor()"
      ]
     },
     "execution_count": 39,
     "metadata": {},
     "output_type": "execute_result"
    }
   ],
   "source": [
    "regressor.fit(X_train,Y_train) \n",
    "#both x tarin and y train represents the data but x train represents all the features and y train represents the gold prices which are yh x train\n"
   ]
  },
  {
   "cell_type": "code",
   "execution_count": 40,
   "id": "b3b48a7f",
   "metadata": {},
   "outputs": [],
   "source": [
    "#model evaluation\n",
    "#prediction on test data \n",
    "#create a model on test data\n",
    "test_data_prediction=regressor.predict(X_test)"
   ]
  },
  {
   "cell_type": "code",
   "execution_count": 41,
   "id": "ae46f148",
   "metadata": {},
   "outputs": [
    {
     "name": "stdout",
     "output_type": "stream",
     "text": [
      "[168.62209949  82.02349974 115.7171003  127.7411008  120.68450169\n",
      " 154.72119844 150.38329874 126.07110053 117.45859867 125.92400111\n",
      " 116.66730091 171.82020107 141.47089894 167.56359888 115.24729991\n",
      " 117.62950066 139.95300311 170.15440043 159.2203028  160.08420034\n",
      " 155.07550008 125.11680054 176.07699994 157.08600362 125.31780042\n",
      "  93.73889976  77.6482002  120.29100014 119.11529938 167.47949995\n",
      "  88.18970036 125.23599995  91.2717008  117.55679998 121.15779872\n",
      " 136.82070028 115.33240133 115.25190092 147.44949981 107.07850092\n",
      " 104.41990254  87.04929769 126.4732005  117.94300038 151.90759858\n",
      " 119.56329998 108.35339987 108.13819843  93.12060029 127.06029819\n",
      "  74.76250029 113.65199903 121.35610021 111.26589892 118.85149873\n",
      " 120.57099986 159.69149988 168.42310059 146.96339689  85.77839886\n",
      "  94.48940036  86.80879909  90.50430036 118.9584008  126.40850065\n",
      " 127.73570021 169.08580023 122.26879947 117.63669888  98.36740027\n",
      " 168.66420245 143.36839804 132.4764023  121.25580202 120.33439942\n",
      " 119.74610058 114.53770159 118.33110054 107.03490115 127.9384011\n",
      " 113.83279978 107.47559989 116.76480042 119.46179877  89.1260006\n",
      "  88.2164985  147.02240188 127.45180029 113.37280072 109.78369851\n",
      " 108.13539896  76.84309927 168.88930161 114.06709911 121.51209884\n",
      " 128.04760176 154.93579807  91.41349924 136.43930079 159.04640315\n",
      " 125.09330084 125.05820035 130.85580221 114.88400105 119.87690005\n",
      "  92.09479977 110.25919915 166.66819997 157.00419953 114.23869946\n",
      " 106.5903013   79.47949987 113.08620059 125.79970071 107.8703994\n",
      " 119.36160105 155.81770367 158.85139913 120.31109968 134.49570219\n",
      " 101.38749999 117.62149793 119.35790028 112.91050076 102.76749905\n",
      " 160.40089706  98.9991005  147.1922997  125.68520136 169.85199915\n",
      " 125.44249916 127.4093973  127.31540164 113.8027994  112.91220056\n",
      " 123.38699882 102.17859893  89.27260006 124.5818997  101.4859997\n",
      " 107.23709885 113.60320034 117.18320058  98.9673995  121.81270048\n",
      " 162.89729968  87.34159873 107.0161995  117.32400116 127.8040008\n",
      " 124.02500074  80.63179917 120.46320096 158.34579821  87.9532994\n",
      " 110.10709956 118.77969923 172.25339835 102.98629898 105.14200058\n",
      " 122.57240057 158.33609787  87.58279834  93.0125002  112.85870061\n",
      " 177.47709937 114.65499977 119.34230006  94.48290058 125.64430044\n",
      " 165.92880009 114.86420029 116.96090147  88.36799855 148.93900036\n",
      " 120.51759934  89.49029995 112.70960021 117.21830031 118.77810123\n",
      "  88.16419972  94.09129989 117.20989989 118.45720209 120.16000027\n",
      " 126.73509831 121.88689978 150.21649993 164.86050032 118.58229938\n",
      " 120.29170153 150.77750021 118.74309931 173.29289893 105.13049946\n",
      " 104.96220123 150.12340041 113.66060102 125.00260121 147.63240027\n",
      " 119.68790111 115.36609992 112.54150006 113.61670173 141.90030175\n",
      " 117.78259789 102.97090072 115.87120098 103.57150192  98.51829997\n",
      " 117.3333004   90.76890038  91.68360046 153.44849888 102.75169983\n",
      " 154.88700095 114.44530157 138.06510102  90.20689795 115.50719917\n",
      " 114.84900007 122.96270033 121.78290041 165.27210184  92.81459979\n",
      " 135.59970075 121.24569958 120.85590072 104.87750015 140.35380311\n",
      " 122.1194993  116.65660056 113.3847009  126.83019795 122.57169951\n",
      " 125.74829985 121.19160061  86.86229887 132.46540121 143.60010212\n",
      "  92.77049958 158.35409985 158.9249021  126.43099885 164.94089978\n",
      " 108.81239933 109.8906009  103.7634982   94.32970084 127.77610277\n",
      " 107.06800021 161.87150018 121.62940054 131.97440044 130.90690266\n",
      " 160.69620007  90.28009852 175.15070244 127.62209993 126.66659885\n",
      "  86.46849949 124.56439962 150.7952972   89.65060026 107.19499946\n",
      " 109.10940001  84.5194988  136.1503007  154.7716029  139.28900361\n",
      "  74.23410006 153.02360081 125.88649943 126.79980018 127.47489931\n",
      " 108.76859983 156.48860067 114.52280102 116.90410165 125.28019946\n",
      " 153.9830009  121.52829999 156.42829883  92.95180059 125.55260145\n",
      " 125.64760015  87.80240019  92.19029921 126.10989941 128.35560323\n",
      " 113.11860015 117.84959743 120.86560029 126.9213981  119.57010108\n",
      " 136.5948009   93.98789931 119.98010023 113.0483012   94.22079935\n",
      " 108.83659949  87.73919932 109.37959918  89.5935998   92.18220073\n",
      " 131.33530381 162.35040002  89.33689989 119.67860075 133.35670198\n",
      " 123.92530019 128.33840193 102.00219858  88.93789873 131.36130024\n",
      " 119.26550006 108.40559995 168.50100148 115.03780033  86.55689891\n",
      " 118.72710082  91.04249966 161.85020011 116.44130047 121.7065002\n",
      " 160.31629771 120.13809933 112.66379925 108.35939864 126.48149992\n",
      "  75.99670031 102.97059975 127.57210262 121.67079932  92.58010031\n",
      " 132.37430044 118.09930185 116.08509947 154.5791027  160.28840071\n",
      " 110.0991999  154.73549771 119.4417011  160.75840044 118.33260026\n",
      " 157.56779975 115.04569882 116.62750029 149.16099916 114.78880059\n",
      " 125.72189875 166.55300022 117.97720012 125.15439978 153.2388035\n",
      " 153.4710023  132.29910022 114.77240048 121.27330181 125.07520099\n",
      "  89.63930032 123.2114999  155.21210245 111.68950029 106.8572998\n",
      " 161.72700139 118.42539969 165.72720013 134.01240112 115.23759952\n",
      " 153.03429899 168.73400039 115.45529997 113.81830123 159.13349904\n",
      "  84.95889913 127.08020084 127.96930018 128.63300009 124.1564008\n",
      " 124.07800105  90.56100094 153.5871989   97.14869983 137.50959981\n",
      "  89.05489915 107.41160002 114.99700013 112.86290078 124.0420993\n",
      "  91.42249887 125.41170127 162.30059799 119.78029881 165.08480097\n",
      " 126.68019817 112.20050015 127.56009946  94.91649882  90.88329971\n",
      " 102.98809914 120.73310011  82.87199954 126.35579999 160.14680446\n",
      " 117.08240064 118.28689978 119.95769988 122.84439945 120.09300122\n",
      " 121.47509979 118.46210055 107.15649954 148.32829979 126.17509843\n",
      " 115.83910086  74.04959988 127.88940161 154.35940026 122.64739976\n",
      " 125.58539995  88.87630013 102.69129814 124.66090071 120.18400041\n",
      "  73.4092009  151.71610042 121.1945004  104.55130014  86.68739793\n",
      " 115.05559919 172.18319827 119.99620054 160.01109787 113.33179957\n",
      " 121.3624004  118.3195017   95.83659982 118.50910014 125.97320031\n",
      " 118.50149958  95.92810079 153.67490151 122.08050012 147.66629975\n",
      " 159.51330238 114.10430026 122.56819923 151.06439839 127.09330055\n",
      " 165.70700001 134.82790056 120.02529974 166.93519872 108.32529951\n",
      " 121.91249817 138.80420198 106.63879862]\n"
     ]
    }
   ],
   "source": [
    "print(test_data_prediction)\n",
    "#these are the values predicted by the model"
   ]
  },
  {
   "cell_type": "code",
   "execution_count": 42,
   "id": "53b0131e",
   "metadata": {},
   "outputs": [
    {
     "name": "stdout",
     "output_type": "stream",
     "text": [
      "R squared error :  0.9891268309653707\n"
     ]
    }
   ],
   "source": [
    "#Now we need to compare the predicted values with the actual values thats why we are using the metrics\n",
    "#R squared error\n",
    "error_score = metrics.r2_score(Y_test,test_data_prediction)\n",
    "print(\"R squared error : \",error_score)\n"
   ]
  },
  {
   "cell_type": "code",
   "execution_count": 43,
   "id": "d5ebcd7b",
   "metadata": {},
   "outputs": [],
   "source": [
    "#compare the actual values and predicted values\n",
    "Y_test=list(Y_test)"
   ]
  },
  {
   "cell_type": "code",
   "execution_count": 46,
   "id": "85cc8092",
   "metadata": {
    "scrolled": true
   },
   "outputs": [
    {
     "data": {
      "image/png": "[encoded data removed]",
      "text/plain": [
       "<Figure size 432x288 with 1 Axes>"
      ]
     },
     "metadata": {
      "needs_background": "light"
     },
     "output_type": "display_data"
    }
   ],
   "source": [
    "plt.plot(Y_test,color='blue',label='Actual value')\n",
    "plt.plot(test_data_prediction,color='green',label='Predicted value')\n",
    "plt.title('Actual price vs predicted price')\n",
    "plt.xlabel('Number of values')\n",
    "plt.ylabel('Gold price')\n",
    "plt.legend()\n",
    "plt.show()\n"
   ]
  },
  {
   "cell_type": "code",
   "execution_count": 47,
   "id": "ddcc4c23",
   "metadata": {},
   "outputs": [
    {
     "data": {
      "image/png": "[encoded data removed]",
      "text/plain": [
       "<Figure size 432x288 with 1 Axes>"
      ]
     },
     "metadata": {
      "needs_background": "light"
     },
     "output_type": "display_data"
    }
   ],
   "source": [
    "#actual are slightly mode than predicted because of that .98 error \n",
    "#for actual value\n",
    "plt.plot(Y_test,color='blue',label='Actual value')\n",
    "plt.title('Actual price vs predicted price')\n",
    "plt.xlabel('Number of values')\n",
    "plt.ylabel('Gold price')\n",
    "plt.legend()\n",
    "plt.show()\n",
    "\n"
   ]
  },
  {
   "cell_type": "code",
   "execution_count": null,
   "id": "5eb3f2cc",
   "metadata": {},
   "outputs": [],
   "source": []
  }
 ],
 "metadata": {
  "kernelspec": {
   "display_name": "Python 3 (ipykernel)",
   "language": "python",
   "name": "python3"
  },
  "language_info": {
   "codemirror_mode": {
    "name": "ipython",
    "version": 3
   },
   "file_extension": ".py",
   "mimetype": "text/x-python",
   "name": "python",
   "nbconvert_exporter": "python",
   "pygments_lexer": "ipython3",
   "version": "3.9.7"
  }
 },
 "nbformat": 4,
 "nbformat_minor": 5
}
